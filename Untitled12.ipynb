{
 "cells": [
  {
   "cell_type": "code",
   "execution_count": 1,
   "id": "593254a3",
   "metadata": {},
   "outputs": [],
   "source": [
    "from tensorflow.keras import layers\n",
    "from keras.layers import Activation, Dense\n",
    "import pandas as pd\n",
    "import matplotlib.pylab as plt\n",
    "from tensorflow import keras\n",
    "import numpy as np\n",
    "import seaborn as sns\n",
    "from sklearn.ensemble import RandomForestRegressor\n",
    "from sklearn.linear_model import LinearRegression #Линейная \n",
    "from sklearn.metrics import mean_squared_error, r2_score, mean_absolute_percentage_error, mean_absolute_error # Всякие метрики\n",
    "from sklearn.model_selection import train_test_split"
   ]
  },
  {
   "cell_type": "code",
   "execution_count": 2,
   "id": "eed8252f",
   "metadata": {},
   "outputs": [
    {
     "data": {
      "text/html": [
       "<div>\n",
       "<style scoped>\n",
       "    .dataframe tbody tr th:only-of-type {\n",
       "        vertical-align: middle;\n",
       "    }\n",
       "\n",
       "    .dataframe tbody tr th {\n",
       "        vertical-align: top;\n",
       "    }\n",
       "\n",
       "    .dataframe thead th {\n",
       "        text-align: right;\n",
       "    }\n",
       "</style>\n",
       "<table border=\"1\" class=\"dataframe\">\n",
       "  <thead>\n",
       "    <tr style=\"text-align: right;\">\n",
       "      <th></th>\n",
       "      <th>IW</th>\n",
       "      <th>IF</th>\n",
       "      <th>VW</th>\n",
       "      <th>FP</th>\n",
       "      <th>Depth</th>\n",
       "      <th>Width</th>\n",
       "    </tr>\n",
       "  </thead>\n",
       "  <tbody>\n",
       "    <tr>\n",
       "      <th>0</th>\n",
       "      <td>47</td>\n",
       "      <td>139</td>\n",
       "      <td>4.5</td>\n",
       "      <td>80</td>\n",
       "      <td>1.60</td>\n",
       "      <td>2.54</td>\n",
       "    </tr>\n",
       "    <tr>\n",
       "      <th>1</th>\n",
       "      <td>47</td>\n",
       "      <td>139</td>\n",
       "      <td>4.5</td>\n",
       "      <td>80</td>\n",
       "      <td>1.62</td>\n",
       "      <td>2.50</td>\n",
       "    </tr>\n",
       "    <tr>\n",
       "      <th>2</th>\n",
       "      <td>47</td>\n",
       "      <td>139</td>\n",
       "      <td>4.5</td>\n",
       "      <td>80</td>\n",
       "      <td>1.68</td>\n",
       "      <td>2.60</td>\n",
       "    </tr>\n",
       "    <tr>\n",
       "      <th>3</th>\n",
       "      <td>47</td>\n",
       "      <td>139</td>\n",
       "      <td>4.5</td>\n",
       "      <td>80</td>\n",
       "      <td>1.58</td>\n",
       "      <td>2.52</td>\n",
       "    </tr>\n",
       "    <tr>\n",
       "      <th>4</th>\n",
       "      <td>45</td>\n",
       "      <td>140</td>\n",
       "      <td>4.5</td>\n",
       "      <td>80</td>\n",
       "      <td>1.76</td>\n",
       "      <td>2.48</td>\n",
       "    </tr>\n",
       "    <tr>\n",
       "      <th>...</th>\n",
       "      <td>...</td>\n",
       "      <td>...</td>\n",
       "      <td>...</td>\n",
       "      <td>...</td>\n",
       "      <td>...</td>\n",
       "      <td>...</td>\n",
       "    </tr>\n",
       "    <tr>\n",
       "      <th>67</th>\n",
       "      <td>44</td>\n",
       "      <td>146</td>\n",
       "      <td>9.0</td>\n",
       "      <td>60</td>\n",
       "      <td>1.20</td>\n",
       "      <td>1.72</td>\n",
       "    </tr>\n",
       "    <tr>\n",
       "      <th>68</th>\n",
       "      <td>45</td>\n",
       "      <td>146</td>\n",
       "      <td>9.0</td>\n",
       "      <td>60</td>\n",
       "      <td>1.36</td>\n",
       "      <td>1.76</td>\n",
       "    </tr>\n",
       "    <tr>\n",
       "      <th>69</th>\n",
       "      <td>45</td>\n",
       "      <td>146</td>\n",
       "      <td>9.0</td>\n",
       "      <td>60</td>\n",
       "      <td>1.28</td>\n",
       "      <td>1.76</td>\n",
       "    </tr>\n",
       "    <tr>\n",
       "      <th>70</th>\n",
       "      <td>45</td>\n",
       "      <td>146</td>\n",
       "      <td>9.0</td>\n",
       "      <td>60</td>\n",
       "      <td>1.28</td>\n",
       "      <td>1.76</td>\n",
       "    </tr>\n",
       "    <tr>\n",
       "      <th>71</th>\n",
       "      <td>45</td>\n",
       "      <td>146</td>\n",
       "      <td>9.0</td>\n",
       "      <td>60</td>\n",
       "      <td>1.32</td>\n",
       "      <td>1.76</td>\n",
       "    </tr>\n",
       "  </tbody>\n",
       "</table>\n",
       "<p>72 rows × 6 columns</p>\n",
       "</div>"
      ],
      "text/plain": [
       "    IW   IF   VW  FP  Depth  Width\n",
       "0   47  139  4.5  80   1.60   2.54\n",
       "1   47  139  4.5  80   1.62   2.50\n",
       "2   47  139  4.5  80   1.68   2.60\n",
       "3   47  139  4.5  80   1.58   2.52\n",
       "4   45  140  4.5  80   1.76   2.48\n",
       "..  ..  ...  ...  ..    ...    ...\n",
       "67  44  146  9.0  60   1.20   1.72\n",
       "68  45  146  9.0  60   1.36   1.76\n",
       "69  45  146  9.0  60   1.28   1.76\n",
       "70  45  146  9.0  60   1.28   1.76\n",
       "71  45  146  9.0  60   1.32   1.76\n",
       "\n",
       "[72 rows x 6 columns]"
      ]
     },
     "execution_count": 2,
     "metadata": {},
     "output_type": "execute_result"
    }
   ],
   "source": [
    "#Загрузка датасета (не забыть изменить путь с локалки для гитхаба)\n",
    "\n",
    "df = pd.read_csv('C:/Project/Dataset/ebw_data.csv')\n",
    "df"
   ]
  },
  {
   "cell_type": "code",
   "execution_count": 3,
   "id": "99ba20c3",
   "metadata": {},
   "outputs": [
    {
     "data": {
      "text/plain": [
       "IW       0\n",
       "IF       0\n",
       "VW       0\n",
       "FP       0\n",
       "Depth    0\n",
       "Width    0\n",
       "dtype: int64"
      ]
     },
     "execution_count": 3,
     "metadata": {},
     "output_type": "execute_result"
    }
   ],
   "source": [
    "# Проверка на пропуски\n",
    "df.isnull().sum() \n"
   ]
  },
  {
   "cell_type": "code",
   "execution_count": 4,
   "id": "ba171c6f",
   "metadata": {},
   "outputs": [
    {
     "data": {
      "text/plain": [
       "IW         int64\n",
       "IF         int64\n",
       "VW       float64\n",
       "FP         int64\n",
       "Depth    float64\n",
       "Width    float64\n",
       "dtype: object"
      ]
     },
     "execution_count": 4,
     "metadata": {},
     "output_type": "execute_result"
    }
   ],
   "source": [
    "# Тип данных\n",
    "df.dtypes"
   ]
  },
  {
   "cell_type": "code",
   "execution_count": 5,
   "id": "e8931720",
   "metadata": {},
   "outputs": [
    {
     "data": {
      "text/html": [
       "<div>\n",
       "<style scoped>\n",
       "    .dataframe tbody tr th:only-of-type {\n",
       "        vertical-align: middle;\n",
       "    }\n",
       "\n",
       "    .dataframe tbody tr th {\n",
       "        vertical-align: top;\n",
       "    }\n",
       "\n",
       "    .dataframe thead th {\n",
       "        text-align: right;\n",
       "    }\n",
       "</style>\n",
       "<table border=\"1\" class=\"dataframe\">\n",
       "  <thead>\n",
       "    <tr style=\"text-align: right;\">\n",
       "      <th></th>\n",
       "      <th>IW</th>\n",
       "      <th>IF</th>\n",
       "      <th>VW</th>\n",
       "      <th>FP</th>\n",
       "      <th>Depth</th>\n",
       "      <th>Width</th>\n",
       "    </tr>\n",
       "  </thead>\n",
       "  <tbody>\n",
       "    <tr>\n",
       "      <th>count</th>\n",
       "      <td>72.000000</td>\n",
       "      <td>72.000000</td>\n",
       "      <td>72.000000</td>\n",
       "      <td>72.000000</td>\n",
       "      <td>72.000000</td>\n",
       "      <td>72.000000</td>\n",
       "    </tr>\n",
       "    <tr>\n",
       "      <th>mean</th>\n",
       "      <td>45.666667</td>\n",
       "      <td>141.333333</td>\n",
       "      <td>8.638889</td>\n",
       "      <td>78.333333</td>\n",
       "      <td>1.195556</td>\n",
       "      <td>1.970417</td>\n",
       "    </tr>\n",
       "    <tr>\n",
       "      <th>std</th>\n",
       "      <td>1.678363</td>\n",
       "      <td>5.145763</td>\n",
       "      <td>2.061078</td>\n",
       "      <td>21.493530</td>\n",
       "      <td>0.225081</td>\n",
       "      <td>0.279040</td>\n",
       "    </tr>\n",
       "    <tr>\n",
       "      <th>min</th>\n",
       "      <td>43.000000</td>\n",
       "      <td>131.000000</td>\n",
       "      <td>4.500000</td>\n",
       "      <td>50.000000</td>\n",
       "      <td>0.800000</td>\n",
       "      <td>1.680000</td>\n",
       "    </tr>\n",
       "    <tr>\n",
       "      <th>25%</th>\n",
       "      <td>44.000000</td>\n",
       "      <td>139.000000</td>\n",
       "      <td>8.000000</td>\n",
       "      <td>60.000000</td>\n",
       "      <td>1.080000</td>\n",
       "      <td>1.760000</td>\n",
       "    </tr>\n",
       "    <tr>\n",
       "      <th>50%</th>\n",
       "      <td>45.500000</td>\n",
       "      <td>141.000000</td>\n",
       "      <td>9.000000</td>\n",
       "      <td>80.000000</td>\n",
       "      <td>1.200000</td>\n",
       "      <td>1.840000</td>\n",
       "    </tr>\n",
       "    <tr>\n",
       "      <th>75%</th>\n",
       "      <td>47.000000</td>\n",
       "      <td>146.000000</td>\n",
       "      <td>10.000000</td>\n",
       "      <td>80.000000</td>\n",
       "      <td>1.290000</td>\n",
       "      <td>2.050000</td>\n",
       "    </tr>\n",
       "    <tr>\n",
       "      <th>max</th>\n",
       "      <td>49.000000</td>\n",
       "      <td>150.000000</td>\n",
       "      <td>12.000000</td>\n",
       "      <td>125.000000</td>\n",
       "      <td>1.760000</td>\n",
       "      <td>2.600000</td>\n",
       "    </tr>\n",
       "  </tbody>\n",
       "</table>\n",
       "</div>"
      ],
      "text/plain": [
       "              IW          IF         VW          FP      Depth      Width\n",
       "count  72.000000   72.000000  72.000000   72.000000  72.000000  72.000000\n",
       "mean   45.666667  141.333333   8.638889   78.333333   1.195556   1.970417\n",
       "std     1.678363    5.145763   2.061078   21.493530   0.225081   0.279040\n",
       "min    43.000000  131.000000   4.500000   50.000000   0.800000   1.680000\n",
       "25%    44.000000  139.000000   8.000000   60.000000   1.080000   1.760000\n",
       "50%    45.500000  141.000000   9.000000   80.000000   1.200000   1.840000\n",
       "75%    47.000000  146.000000  10.000000   80.000000   1.290000   2.050000\n",
       "max    49.000000  150.000000  12.000000  125.000000   1.760000   2.600000"
      ]
     },
     "execution_count": 5,
     "metadata": {},
     "output_type": "execute_result"
    }
   ],
   "source": [
    "# Общая статистика и сверка с заданием (ebw_description.docx)\n",
    "df.describe()"
   ]
  },
  {
   "cell_type": "markdown",
   "id": "9395682b",
   "metadata": {},
   "source": [
    "Вывод: Загруженный датасет корректен\n"
   ]
  },
  {
   "cell_type": "markdown",
   "id": "31634354",
   "metadata": {},
   "source": [
    "# Проверим датасет на выбросы"
   ]
  },
  {
   "cell_type": "markdown",
   "id": "5bd44f1f",
   "metadata": {},
   "source": [
    "Проверка на выбросы величину сварочного тока (IW)"
   ]
  },
  {
   "cell_type": "code",
   "execution_count": 6,
   "id": "4b70485e",
   "metadata": {},
   "outputs": [
    {
     "data": {
      "text/plain": [
       "<AxesSubplot:>"
      ]
     },
     "execution_count": 6,
     "metadata": {},
     "output_type": "execute_result"
    },
    {
     "data": {
      "image/png": "[encoded data removed]",
      "text/plain": [
       "<Figure size 1440x360 with 2 Axes>"
      ]
     },
     "metadata": {
      "needs_background": "light"
     },
     "output_type": "display_data"
    }
   ],
   "source": [
    "plt.figure(figsize=(20, 5)) \n",
    "\n",
    "pal = sns.color_palette('BuPu_r') \n",
    "sns.set_palette(pal)\n",
    "plt.subplot(1, 2, 1)\n",
    "df.boxplot('IW')\n",
    "plt.subplot(1, 2, 2)\n",
    "df['IW'].value_counts().plot.bar()\n"
   ]
  },
  {
   "cell_type": "markdown",
   "id": "29ba1e8f",
   "metadata": {},
   "source": [
    "Проверка на выбросы тока фокусировки электронного луча (IF)"
   ]
  },
  {
   "cell_type": "code",
   "execution_count": 7,
   "id": "ad8de426",
   "metadata": {},
   "outputs": [
    {
     "data": {
      "text/plain": [
       "<AxesSubplot:>"
      ]
     },
     "execution_count": 7,
     "metadata": {},
     "output_type": "execute_result"
    },
    {
     "data": {
      "image/png": "[encoded data removed]",
      "text/plain": [
       "<Figure size 1440x360 with 2 Axes>"
      ]
     },
     "metadata": {
      "needs_background": "light"
     },
     "output_type": "display_data"
    }
   ],
   "source": [
    "plt.figure(figsize=(20, 5)) \n",
    "pal1 = sns.color_palette('Accent') \n",
    "sns.set_palette(pal1)\n",
    "plt.subplot(1, 2, 1)\n",
    "df.boxplot('IF')\n",
    "plt.subplot(1, 2, 2)\n",
    "df['IF'].value_counts().plot.bar()\n"
   ]
  },
  {
   "cell_type": "markdown",
   "id": "4cc6f69d",
   "metadata": {},
   "source": [
    " Проверка на выбросы скорость сварки (VW)  "
   ]
  },
  {
   "cell_type": "code",
   "execution_count": 8,
   "id": "d429fc02",
   "metadata": {},
   "outputs": [
    {
     "data": {
      "text/plain": [
       "<AxesSubplot:>"
      ]
     },
     "execution_count": 8,
     "metadata": {},
     "output_type": "execute_result"
    },
    {
     "data": {
      "image/png": "[encoded data removed]",
      "text/plain": [
       "<Figure size 1440x360 with 2 Axes>"
      ]
     },
     "metadata": {
      "needs_background": "light"
     },
     "output_type": "display_data"
    }
   ],
   "source": [
    "plt.figure(figsize=(20, 5)) \n",
    "pal2 = sns.color_palette('brg') \n",
    "sns.set_palette(pal2)\n",
    "plt.subplot(1, 2, 1)\n",
    "df.boxplot('VW')\n",
    "plt.subplot(1, 2, 2)\n",
    "df['VW'].value_counts().plot.bar()\n"
   ]
  },
  {
   "cell_type": "markdown",
   "id": "0cd6af74",
   "metadata": {},
   "source": [
    " Проверка на выбросы расстояния от поверхности образцов до электронно-оптической системы (FP)"
   ]
  },
  {
   "cell_type": "code",
   "execution_count": 9,
   "id": "8b57c9f6",
   "metadata": {},
   "outputs": [
    {
     "data": {
      "text/plain": [
       "<AxesSubplot:>"
      ]
     },
     "execution_count": 9,
     "metadata": {},
     "output_type": "execute_result"
    },
    {
     "data": {
      "image/png": "[encoded data removed]",
      "text/plain": [
       "<Figure size 1440x360 with 2 Axes>"
      ]
     },
     "metadata": {
      "needs_background": "light"
     },
     "output_type": "display_data"
    }
   ],
   "source": [
    "plt.figure(figsize=(20, 5)) \n",
    "pal3 = sns.color_palette('flare_r') \n",
    "sns.set_palette(pal3)\n",
    "plt.subplot(1, 2, 1)\n",
    "df.boxplot('FP')\n",
    "plt.subplot(1, 2, 2)\n",
    "df['FP'].value_counts().plot.bar()"
   ]
  },
  {
   "cell_type": "markdown",
   "id": "a99560ad",
   "metadata": {},
   "source": [
    "Проверка на выбросы глубину сварочного шва (Depth)"
   ]
  },
  {
   "cell_type": "code",
   "execution_count": 10,
   "id": "15ca7023",
   "metadata": {},
   "outputs": [
    {
     "data": {
      "text/plain": [
       "<AxesSubplot:>"
      ]
     },
     "execution_count": 10,
     "metadata": {},
     "output_type": "execute_result"
    },
    {
     "data": {
      "image/png": "[encoded data removed]",
      "text/plain": [
       "<Figure size 1440x360 with 2 Axes>"
      ]
     },
     "metadata": {
      "needs_background": "light"
     },
     "output_type": "display_data"
    }
   ],
   "source": [
    "plt.figure(figsize=(20, 5)) \n",
    "pal4 = sns.color_palette('nipy_spectral') \n",
    "sns.set_palette(pal4)\n",
    "plt.subplot(1, 2, 1)\n",
    "df.boxplot('Depth')\n",
    "plt.subplot(1, 2, 2)\n",
    "df['Depth'].value_counts().plot.bar()"
   ]
  },
  {
   "cell_type": "markdown",
   "id": "f7e89156",
   "metadata": {},
   "source": [
    "Проверка на выбросы ширину сварочного шва (Width)"
   ]
  },
  {
   "cell_type": "code",
   "execution_count": 11,
   "id": "ed8b1f97",
   "metadata": {},
   "outputs": [
    {
     "data": {
      "text/plain": [
       "<AxesSubplot:>"
      ]
     },
     "execution_count": 11,
     "metadata": {},
     "output_type": "execute_result"
    },
    {
     "data": {
      "image/png": "[encoded data removed]",
      "text/plain": [
       "<Figure size 1440x360 with 2 Axes>"
      ]
     },
     "metadata": {
      "needs_background": "light"
     },
     "output_type": "display_data"
    }
   ],
   "source": [
    "plt.figure(figsize=(20, 5)) \n",
    "pal5 = sns.color_palette('tab20c') \n",
    "sns.set_palette(pal5)\n",
    "plt.subplot(1, 2, 1)\n",
    "df.boxplot('Width')\n",
    "plt.subplot(1, 2, 2)\n",
    "df['Width'].value_counts().plot.bar()"
   ]
  },
  {
   "cell_type": "code",
   "execution_count": 12,
   "id": "3058d931",
   "metadata": {},
   "outputs": [
    {
     "data": {
      "text/plain": [
       "count    72.000000\n",
       "mean      1.970417\n",
       "std       0.279040\n",
       "min       1.680000\n",
       "25%       1.760000\n",
       "50%       1.840000\n",
       "75%       2.050000\n",
       "max       2.600000\n",
       "Name: Width, dtype: float64"
      ]
     },
     "execution_count": 12,
     "metadata": {},
     "output_type": "execute_result"
    }
   ],
   "source": [
    "df['Width'].describe()"
   ]
  },
  {
   "cell_type": "code",
   "execution_count": 13,
   "id": "fcc55619",
   "metadata": {},
   "outputs": [
    {
     "data": {
      "text/plain": [
       "count    72.000000\n",
       "mean      1.195556\n",
       "std       0.225081\n",
       "min       0.800000\n",
       "25%       1.080000\n",
       "50%       1.200000\n",
       "75%       1.290000\n",
       "max       1.760000\n",
       "Name: Depth, dtype: float64"
      ]
     },
     "execution_count": 13,
     "metadata": {},
     "output_type": "execute_result"
    }
   ],
   "source": [
    "df['Depth'].describe()"
   ]
  },
  {
   "cell_type": "markdown",
   "id": "783b7ef7",
   "metadata": {},
   "source": [
    "Вывод: В скорости сварки и глубине шва есть незначительный выброс, а так же выбросы по глубине и ширине сварочного \n",
    "шва, что скорее всего взаимосвязано между собой. Можно сделать нормализацию с помощью MinMaxScaler или StandardScaler, но не будем, так как интересно, что получится в итоге.\n",
    "\n",
    "Так как датасет небольшой и критических выбросов нет, то предположим, что на данный момент никакой дополнительной обработки не требуется.\n",
    "\n",
    "P.S. Если успею, то сделаю то же самое, но уже без выбросов, используя межквартильный размах. "
   ]
  },
  {
   "cell_type": "markdown",
   "id": "2e30a1d6",
   "metadata": {},
   "source": [
    "# Построим модель с помощью линейной регрессии"
   ]
  },
  {
   "cell_type": "code",
   "execution_count": 14,
   "id": "54e41436",
   "metadata": {},
   "outputs": [],
   "source": [
    "from sklearn.linear_model import LinearRegression #Линейная \n",
    "from sklearn.metrics import mean_squared_error, r2_score, mean_absolute_percentage_error, mean_absolute_error\n",
    "from sklearn.model_selection import train_test_split"
   ]
  },
  {
   "cell_type": "code",
   "execution_count": 15,
   "id": "cc5b548d",
   "metadata": {},
   "outputs": [],
   "source": [
    "# Так как по условию нам необходимо предсказать толщину и глубину шва в зависимости от остальных данных, выделим их отдельно\n",
    "pred_d = \"Depth\"\n",
    "pred_w = \"Width\"\n",
    "X = np.array(df.drop([pred_d, pred_w], axis=1)) #Удаляем глубину и ширину шва для \n",
    "yd = np.array(df[pred_d]) # y для Depth\n",
    "yw = np.array(df[pred_w]) # y для Width\n",
    "results_comp = []"
   ]
  },
  {
   "cell_type": "code",
   "execution_count": 16,
   "id": "16b095e5",
   "metadata": {},
   "outputs": [
    {
     "name": "stdout",
     "output_type": "stream",
     "text": [
      "(54, 4) (18, 4) (54,) (18,)\n"
     ]
    }
   ],
   "source": [
    "#По глубине\n",
    "X_train, X_test, y_train, y_test = train_test_split(X, yd, test_size = 0.25, random_state = 42) # Разделяем выборку\n",
    "print(X_train.shape, X_test.shape, y_train.shape, y_test.shape)"
   ]
  },
  {
   "cell_type": "code",
   "execution_count": 17,
   "id": "bf6a0aa5",
   "metadata": {},
   "outputs": [
    {
     "data": {
      "text/plain": [
       "LinearRegression()"
      ]
     },
     "execution_count": 17,
     "metadata": {},
     "output_type": "execute_result"
    }
   ],
   "source": [
    "model = LinearRegression() # Обучение модели\n",
    "model.fit(X_train, y_train)"
   ]
  },
  {
   "cell_type": "code",
   "execution_count": 18,
   "id": "19272254",
   "metadata": {},
   "outputs": [
    {
     "data": {
      "text/plain": [
       "(13.584811957269064,\n",
       " array([ 0.02388672, -0.07825861, -0.05078847, -0.0253498 ]))"
      ]
     },
     "execution_count": 18,
     "metadata": {},
     "output_type": "execute_result"
    }
   ],
   "source": [
    "model.intercept_,  model.coef_ "
   ]
  },
  {
   "cell_type": "code",
   "execution_count": 19,
   "id": "6a0bb096",
   "metadata": {},
   "outputs": [
    {
     "data": {
      "text/plain": [
       "0.871137780168052"
      ]
     },
     "execution_count": 19,
     "metadata": {},
     "output_type": "execute_result"
    }
   ],
   "source": [
    "model.score(X_train, y_train) # возвращает значение R²"
   ]
  },
  {
   "cell_type": "code",
   "execution_count": 20,
   "id": "b5d080cd",
   "metadata": {},
   "outputs": [
    {
     "data": {
      "text/plain": [
       "(array([1.44697711, 1.20809983, 1.11326862, 1.57300917, 1.57300917,\n",
       "        1.23198656, 1.26921745, 0.80288726, 1.0893819 , 1.14856337,\n",
       "        1.22897153, 1.57300917, 1.26921745, 1.22897153, 1.44697711,\n",
       "        1.03557839, 1.23198656, 1.23198656]),\n",
       " array([1.76, 1.2 , 1.2 , 1.6 , 1.36, 1.24, 1.16, 0.88, 0.98, 1.08, 1.24,\n",
       "        1.36, 1.2 , 1.36, 1.72, 1.2 , 1.2 , 1.32]))"
      ]
     },
     "execution_count": 20,
     "metadata": {},
     "output_type": "execute_result"
    }
   ],
   "source": [
    "y_predict = model.predict(X_test) # Предсказания\n",
    "y_predict, y_test"
   ]
  },
  {
   "cell_type": "code",
   "execution_count": 21,
   "id": "f7df1e80",
   "metadata": {},
   "outputs": [
    {
     "data": {
      "text/html": [
       "<div>\n",
       "<style scoped>\n",
       "    .dataframe tbody tr th:only-of-type {\n",
       "        vertical-align: middle;\n",
       "    }\n",
       "\n",
       "    .dataframe tbody tr th {\n",
       "        vertical-align: top;\n",
       "    }\n",
       "\n",
       "    .dataframe thead th {\n",
       "        text-align: right;\n",
       "    }\n",
       "</style>\n",
       "<table border=\"1\" class=\"dataframe\">\n",
       "  <thead>\n",
       "    <tr style=\"text-align: right;\">\n",
       "      <th></th>\n",
       "      <th>Тестовая</th>\n",
       "      <th>Предсказанная</th>\n",
       "    </tr>\n",
       "  </thead>\n",
       "  <tbody>\n",
       "    <tr>\n",
       "      <th>0</th>\n",
       "      <td>1.76</td>\n",
       "      <td>1.446977</td>\n",
       "    </tr>\n",
       "    <tr>\n",
       "      <th>1</th>\n",
       "      <td>1.20</td>\n",
       "      <td>1.208100</td>\n",
       "    </tr>\n",
       "    <tr>\n",
       "      <th>2</th>\n",
       "      <td>1.20</td>\n",
       "      <td>1.113269</td>\n",
       "    </tr>\n",
       "    <tr>\n",
       "      <th>3</th>\n",
       "      <td>1.60</td>\n",
       "      <td>1.573009</td>\n",
       "    </tr>\n",
       "    <tr>\n",
       "      <th>4</th>\n",
       "      <td>1.36</td>\n",
       "      <td>1.573009</td>\n",
       "    </tr>\n",
       "    <tr>\n",
       "      <th>5</th>\n",
       "      <td>1.24</td>\n",
       "      <td>1.231987</td>\n",
       "    </tr>\n",
       "    <tr>\n",
       "      <th>6</th>\n",
       "      <td>1.16</td>\n",
       "      <td>1.269217</td>\n",
       "    </tr>\n",
       "    <tr>\n",
       "      <th>7</th>\n",
       "      <td>0.88</td>\n",
       "      <td>0.802887</td>\n",
       "    </tr>\n",
       "    <tr>\n",
       "      <th>8</th>\n",
       "      <td>0.98</td>\n",
       "      <td>1.089382</td>\n",
       "    </tr>\n",
       "    <tr>\n",
       "      <th>9</th>\n",
       "      <td>1.08</td>\n",
       "      <td>1.148563</td>\n",
       "    </tr>\n",
       "    <tr>\n",
       "      <th>10</th>\n",
       "      <td>1.24</td>\n",
       "      <td>1.228972</td>\n",
       "    </tr>\n",
       "    <tr>\n",
       "      <th>11</th>\n",
       "      <td>1.36</td>\n",
       "      <td>1.573009</td>\n",
       "    </tr>\n",
       "    <tr>\n",
       "      <th>12</th>\n",
       "      <td>1.20</td>\n",
       "      <td>1.269217</td>\n",
       "    </tr>\n",
       "    <tr>\n",
       "      <th>13</th>\n",
       "      <td>1.36</td>\n",
       "      <td>1.228972</td>\n",
       "    </tr>\n",
       "    <tr>\n",
       "      <th>14</th>\n",
       "      <td>1.72</td>\n",
       "      <td>1.446977</td>\n",
       "    </tr>\n",
       "    <tr>\n",
       "      <th>15</th>\n",
       "      <td>1.20</td>\n",
       "      <td>1.035578</td>\n",
       "    </tr>\n",
       "    <tr>\n",
       "      <th>16</th>\n",
       "      <td>1.20</td>\n",
       "      <td>1.231987</td>\n",
       "    </tr>\n",
       "    <tr>\n",
       "      <th>17</th>\n",
       "      <td>1.32</td>\n",
       "      <td>1.231987</td>\n",
       "    </tr>\n",
       "  </tbody>\n",
       "</table>\n",
       "</div>"
      ],
      "text/plain": [
       "    Тестовая  Предсказанная\n",
       "0       1.76       1.446977\n",
       "1       1.20       1.208100\n",
       "2       1.20       1.113269\n",
       "3       1.60       1.573009\n",
       "4       1.36       1.573009\n",
       "5       1.24       1.231987\n",
       "6       1.16       1.269217\n",
       "7       0.88       0.802887\n",
       "8       0.98       1.089382\n",
       "9       1.08       1.148563\n",
       "10      1.24       1.228972\n",
       "11      1.36       1.573009\n",
       "12      1.20       1.269217\n",
       "13      1.36       1.228972\n",
       "14      1.72       1.446977\n",
       "15      1.20       1.035578\n",
       "16      1.20       1.231987\n",
       "17      1.32       1.231987"
      ]
     },
     "execution_count": 21,
     "metadata": {},
     "output_type": "execute_result"
    }
   ],
   "source": [
    " #Сравнение предсказанной с тестовой. Далее выводить не будет, чтоб не \"засорять\" работу\n",
    "df = pd.DataFrame({'Тестовая': y_test, 'Предсказанная': y_predict})\n",
    "df"
   ]
  },
  {
   "cell_type": "code",
   "execution_count": 22,
   "id": "2124ad36",
   "metadata": {},
   "outputs": [
    {
     "name": "stdout",
     "output_type": "stream",
     "text": [
      " Средняя абсолютная ошибка:  MAE = 0.11121505985151181 \n",
      " Cреднеквадратичная ошибка: MSE = 0.020226476299570455 \n",
      " Коэффициент: R_squared = 0.5894387720172394\n"
     ]
    }
   ],
   "source": [
    "print(' Средняя абсолютная ошибка: '\" MAE =\", mean_absolute_error(y_test, y_predict), \"\\n\", \n",
    "      'Cреднеквадратичная ошибка: '\"MSE =\", mean_squared_error(y_test, y_predict), \"\\n\", \n",
    "      'Коэффициент: '\"R_squared =\", r2_score(y_test, y_predict)) "
   ]
  },
  {
   "cell_type": "code",
   "execution_count": 23,
   "id": "d1bbf086",
   "metadata": {},
   "outputs": [],
   "source": [
    "#Запомним данные по глубине\n",
    "res1 = ['Depth', 'LinearRegression', mean_absolute_error(y_test, y_predict), mean_squared_error(y_test, y_predict), \n",
    "        r2_score(y_test, y_predict)]\n",
    "results_comp.append(res1)"
   ]
  },
  {
   "cell_type": "code",
   "execution_count": 24,
   "id": "f40e81a0",
   "metadata": {},
   "outputs": [
    {
     "name": "stdout",
     "output_type": "stream",
     "text": [
      "(54, 4) (18, 4) (54,) (18,)\n"
     ]
    }
   ],
   "source": [
    "#по ширине\n",
    "X_train, X_test, y_train, y_test = train_test_split(X, yw, test_size = 0.25, random_state = 42) # Разделяем выборку\n",
    "print(X_train.shape, X_test.shape, y_train.shape, y_test.shape)"
   ]
  },
  {
   "cell_type": "code",
   "execution_count": 25,
   "id": "59a897b9",
   "metadata": {},
   "outputs": [
    {
     "data": {
      "text/plain": [
       "LinearRegression()"
      ]
     },
     "execution_count": 25,
     "metadata": {},
     "output_type": "execute_result"
    }
   ],
   "source": [
    "model = LinearRegression() # Обучение модели\n",
    "model.fit(X_train, y_train)"
   ]
  },
  {
   "cell_type": "code",
   "execution_count": 26,
   "id": "6d99aac2",
   "metadata": {},
   "outputs": [
    {
     "data": {
      "text/plain": [
       "(2.2219911462264594,\n",
       " array([ 0.0185159 , -0.00254871, -0.11832188,  0.00361177]))"
      ]
     },
     "execution_count": 26,
     "metadata": {},
     "output_type": "execute_result"
    }
   ],
   "source": [
    "model.intercept_, model.coef_ "
   ]
  },
  {
   "cell_type": "code",
   "execution_count": 27,
   "id": "c6ae6bb7",
   "metadata": {},
   "outputs": [
    {
     "data": {
      "text/plain": [
       "0.9357313894218104"
      ]
     },
     "execution_count": 27,
     "metadata": {},
     "output_type": "execute_result"
    }
   ],
   "source": [
    "model.score(X_train, y_train) # возвращает значение R²"
   ]
  },
  {
   "cell_type": "code",
   "execution_count": 28,
   "id": "e7c1bbe0",
   "metadata": {},
   "outputs": [
    {
     "data": {
      "text/plain": [
       "(array([2.45488067, 1.79787287, 1.82007755, 2.49446118, 2.49446118,\n",
       "        1.81638877, 2.0407541 , 2.04512588, 1.80156165, 1.75156038,\n",
       "        1.7350987 , 2.49446118, 2.0407541 , 1.7350987 , 2.45488067,\n",
       "        1.6019497 , 1.81638877, 1.81638877]),\n",
       " array([2.48, 1.72, 1.86, 2.54, 2.52, 1.8 , 1.96, 2.  , 1.84, 1.82, 1.76,\n",
       "        2.48, 1.96, 1.76, 2.48, 1.8 , 1.76, 1.84]))"
      ]
     },
     "execution_count": 28,
     "metadata": {},
     "output_type": "execute_result"
    }
   ],
   "source": [
    "y_predict = model.predict(X_test) # Предсказания\n",
    "y_predict, y_test"
   ]
  },
  {
   "cell_type": "code",
   "execution_count": 29,
   "id": "89541286",
   "metadata": {},
   "outputs": [
    {
     "name": "stdout",
     "output_type": "stream",
     "text": [
      " Средняя абсолютная ошибка:  MAE = 0.05062925166402705 \n",
      " Cреднеквадратичная ошибка: MSE = 0.004309178782488596 \n",
      " Коэффициент: R_squared = 0.9539064402269295\n"
     ]
    }
   ],
   "source": [
    "print(' Средняя абсолютная ошибка: '\" MAE =\", mean_absolute_error(y_test, y_predict), \"\\n\", \n",
    "      'Cреднеквадратичная ошибка: '\"MSE =\", mean_squared_error(y_test, y_predict), \"\\n\", \n",
    "      'Коэффициент: '\"R_squared =\", r2_score(y_test, y_predict)) "
   ]
  },
  {
   "cell_type": "code",
   "execution_count": 30,
   "id": "903f0912",
   "metadata": {},
   "outputs": [],
   "source": [
    "#Запомним данные по ширине\n",
    "res2 = ['Width', 'LinearRegression', mean_absolute_error(y_test, y_predict), mean_squared_error(y_test, y_predict), \n",
    "        r2_score(y_test, y_predict)]\n",
    "results_comp.append(res2)"
   ]
  },
  {
   "cell_type": "markdown",
   "id": "e2066879",
   "metadata": {},
   "source": [
    "# Построим модель с помощью случайного леса"
   ]
  },
  {
   "cell_type": "code",
   "execution_count": 31,
   "id": "518b7073",
   "metadata": {},
   "outputs": [],
   "source": [
    "model_1 = RandomForestRegressor(n_estimators = 10, random_state=40)\n",
    "model_1.fit(X_train, y_train)\n",
    "y_pred_RF = model_1.predict(X_test)"
   ]
  },
  {
   "cell_type": "code",
   "execution_count": 32,
   "id": "a9670d24",
   "metadata": {},
   "outputs": [
    {
     "name": "stdout",
     "output_type": "stream",
     "text": [
      " Средняя абсолютная ошибка:  MAE = 0.04869734648067983 \n",
      " Cреднеквадратичная ошибка: MSE = 0.003654856694213144 \n",
      " Коэффициент: R_squared = 0.9609054615739498\n"
     ]
    }
   ],
   "source": [
    "print(' Средняя абсолютная ошибка: '\" MAE =\", mean_absolute_error(y_test, y_pred_RF), \"\\n\", \n",
    "    'Cреднеквадратичная ошибка: '\"MSE =\", mean_squared_error(y_test, y_pred_RF), \"\\n\", \n",
    "     'Коэффициент: '\"R_squared =\", r2_score(y_test,y_pred_RF))"
   ]
  },
  {
   "cell_type": "code",
   "execution_count": 33,
   "id": "83200b28",
   "metadata": {},
   "outputs": [],
   "source": [
    "res3 = ['Depth', 'Random Forest', mean_absolute_error(y_test, y_pred_RF), mean_squared_error(y_test, y_pred_RF), \n",
    "        r2_score(y_test, y_pred_RF)]\n",
    "results_comp.append(res3)"
   ]
  },
  {
   "cell_type": "code",
   "execution_count": 34,
   "id": "9c0faf97",
   "metadata": {},
   "outputs": [],
   "source": [
    "model_1 = RandomForestRegressor(n_estimators = 15, random_state=40)\n",
    "model_1.fit(X_train, y_train)\n",
    "y_pred_RF = model_1.predict(X_test)"
   ]
  },
  {
   "cell_type": "code",
   "execution_count": 35,
   "id": "2f5408f3",
   "metadata": {},
   "outputs": [],
   "source": [
    "res4 = ['Width', 'Random Forest', mean_absolute_error(y_test, y_pred_RF), mean_squared_error(y_test, y_pred_RF), \n",
    "        r2_score(y_test, y_pred_RF)]\n",
    "results_comp.append(res4)"
   ]
  },
  {
   "cell_type": "markdown",
   "id": "869177e5",
   "metadata": {},
   "source": [
    "# Построим модель с помощью нейронной сети"
   ]
  },
  {
   "cell_type": "code",
   "execution_count": 36,
   "id": "ac33ea78",
   "metadata": {},
   "outputs": [],
   "source": [
    "#Выборка для глубины\n",
    "X_train, X_test, y_train, y_test = train_test_split(X, yd, test_size = 0.25, random_state = 40) "
   ]
  },
  {
   "cell_type": "code",
   "execution_count": 37,
   "id": "089bf1e9",
   "metadata": {},
   "outputs": [
    {
     "name": "stdout",
     "output_type": "stream",
     "text": [
      "(54, 4)\n",
      "(54,)\n",
      "(18, 4)\n",
      "(18,)\n"
     ]
    }
   ],
   "source": [
    "print(X_train.shape) # Размерность датасета для обучения\n",
    "print(y_train.shape)\n",
    "print(X_test.shape) # Размерность тестового\n",
    "print(y_test.shape)"
   ]
  },
  {
   "cell_type": "code",
   "execution_count": 38,
   "id": "3292f9ba",
   "metadata": {},
   "outputs": [
    {
     "name": "stdout",
     "output_type": "stream",
     "text": [
      "Model: \"sequential\"\n",
      "_________________________________________________________________\n",
      " Layer (type)                Output Shape              Param #   \n",
      "=================================================================\n",
      " dense (Dense)               (None, 40)                200       \n",
      "                                                                 \n",
      " dense_1 (Dense)             (None, 20)                820       \n",
      "                                                                 \n",
      " dense_2 (Dense)             (None, 1)                 21        \n",
      "                                                                 \n",
      "=================================================================\n",
      "Total params: 1,041\n",
      "Trainable params: 1,041\n",
      "Non-trainable params: 0\n",
      "_________________________________________________________________\n"
     ]
    }
   ],
   "source": [
    "#Указываем количество входных слоев и выходного слоя, а так же выводим инфо по обучению\n",
    "# Возьмем 2 слоя, так как мало данных и возьмем разные модели. \n",
    "model2 = keras.Sequential()\n",
    "model2.add(Dense(40, input_dim = 4, activation='sigmoid'))\n",
    "model2.add(Dense(20, activation='tanh'))\n",
    "model2.add(Dense(1, activation='linear'))\n",
    "model2.compile(loss='mae', optimizer=\"adam\", metrics=['mae'])\n",
    "history = model2.fit(X_train, y_train, epochs=50, verbose=0, validation_split= 0.2, validation_data=(X_test, y_test))\n",
    "\n",
    "\n",
    "model2.summary()"
   ]
  },
  {
   "cell_type": "code",
   "execution_count": 40,
   "id": "59bed52b",
   "metadata": {},
   "outputs": [
    {
     "data": {
      "image/png": "[encoded data removed]",
      "text/plain": [
       "<Figure size 432x288 with 1 Axes>"
      ]
     },
     "metadata": {
      "needs_background": "light"
     },
     "output_type": "display_data"
    }
   ],
   "source": [
    "# Красивости\n",
    "plt.plot(history.history['loss'],label='loss', color = 'green')\n",
    "plt.plot(history.history['val_loss'], label='val_loss')\n",
    "plt.xlabel(\"Epochs\")\n",
    "plt.ylabel(\"Error\")\n",
    "plt.legend()\n",
    "plt.show()"
   ]
  },
  {
   "cell_type": "code",
   "execution_count": 41,
   "id": "481fa12d",
   "metadata": {},
   "outputs": [
    {
     "name": "stdout",
     "output_type": "stream",
     "text": [
      "1/1 [==============================] - 0s 20ms/step - loss: 0.1336 - mae: 0.1336\n"
     ]
    },
    {
     "data": {
      "text/plain": [
       "[0.13364177942276, 0.13364177942276]"
      ]
     },
     "execution_count": 41,
     "metadata": {},
     "output_type": "execute_result"
    }
   ],
   "source": [
    "model2.evaluate(X_test, y_test)"
   ]
  },
  {
   "cell_type": "code",
   "execution_count": 42,
   "id": "d3c0384c",
   "metadata": {},
   "outputs": [
    {
     "name": "stdout",
     "output_type": "stream",
     "text": [
      "2/2 [==============================] - 0s 3ms/step - loss: 0.1007 - mae: 0.1007\n"
     ]
    },
    {
     "data": {
      "text/plain": [
       "[0.10065582394599915, 0.10065582394599915]"
      ]
     },
     "execution_count": 42,
     "metadata": {},
     "output_type": "execute_result"
    }
   ],
   "source": [
    "model2.evaluate(X_train, y_train)"
   ]
  },
  {
   "cell_type": "code",
   "execution_count": 43,
   "id": "7a258dd6",
   "metadata": {},
   "outputs": [],
   "source": [
    "y_pred_n = model2.predict(X_test)\n",
    "#print(y_pred_n)"
   ]
  },
  {
   "cell_type": "code",
   "execution_count": 44,
   "id": "b4100f6e",
   "metadata": {},
   "outputs": [
    {
     "name": "stdout",
     "output_type": "stream",
     "text": [
      "Потери в обучении: 0.10065582394599915\n",
      "Точность обучения: 0.10065582394599915\n"
     ]
    }
   ],
   "source": [
    "#Проверка обучения. Почему то не работает в моей модели, хотя входные норм. Дублирует. Не хватает мозгов...\n",
    "score = model2.evaluate(X_train, y_train, verbose=0)\n",
    "print(\"Потери в обучении:\", score[0])\n",
    "print(\"Точность обучения:\", score[1])"
   ]
  },
  {
   "cell_type": "code",
   "execution_count": 45,
   "id": "b35d8dfd",
   "metadata": {},
   "outputs": [
    {
     "name": "stdout",
     "output_type": "stream",
     "text": [
      "Потери в тестовой: 0.13364177942276\n",
      "Точность в тестовой: 0.13364177942276\n"
     ]
    }
   ],
   "source": [
    "#Проверка тестовой. Такая же хрень.\n",
    "score1 = model2.evaluate(X_test, y_test, verbose=0)\n",
    "print(\"Потери в тестовой:\", score1[0])\n",
    "print(\"Точность в тестовой:\", score1[1])"
   ]
  },
  {
   "cell_type": "code",
   "execution_count": 46,
   "id": "e6de11eb",
   "metadata": {},
   "outputs": [],
   "source": [
    "res5 = ['Depth', 'Neural', mean_absolute_error(y_test, y_pred_n), mean_squared_error(y_test, y_pred_n), \n",
    "        r2_score(y_test, y_pred_n)]\n",
    "results_comp.append(res5)"
   ]
  },
  {
   "cell_type": "code",
   "execution_count": 47,
   "id": "54ea9d46",
   "metadata": {},
   "outputs": [],
   "source": [
    "#Выборка для ширины\n",
    "X_train, X_test, y_train, y_test = train_test_split(X, yw, test_size = 0.25, random_state = 40) "
   ]
  },
  {
   "cell_type": "code",
   "execution_count": 48,
   "id": "d00140cf",
   "metadata": {},
   "outputs": [
    {
     "name": "stdout",
     "output_type": "stream",
     "text": [
      "Model: \"sequential_1\"\n",
      "_________________________________________________________________\n",
      " Layer (type)                Output Shape              Param #   \n",
      "=================================================================\n",
      " dense_3 (Dense)             (None, 40)                200       \n",
      "                                                                 \n",
      " dense_4 (Dense)             (None, 20)                820       \n",
      "                                                                 \n",
      " dense_5 (Dense)             (None, 1)                 21        \n",
      "                                                                 \n",
      "=================================================================\n",
      "Total params: 1,041\n",
      "Trainable params: 1,041\n",
      "Non-trainable params: 0\n",
      "_________________________________________________________________\n"
     ]
    }
   ],
   "source": [
    "model3 = keras.Sequential()\n",
    "model3.add(Dense(40, input_dim = 4, activation='sigmoid'))\n",
    "model3.add(Dense(20, activation='tanh'))\n",
    "model3.add(Dense(1, activation='linear'))\n",
    "model3.compile(loss='mae', optimizer=\"adam\", metrics=['mae'])\n",
    "history = model3.fit(X_train, y_train, epochs=50, verbose=0, validation_split= 0.2, validation_data=(X_test, y_test))\n",
    "\n",
    "\n",
    "model3.summary()"
   ]
  },
  {
   "cell_type": "code",
   "execution_count": 49,
   "id": "4046bb74",
   "metadata": {},
   "outputs": [
    {
     "data": {
      "image/png": "[encoded data removed]",
      "text/plain": [
       "<Figure size 432x288 with 1 Axes>"
      ]
     },
     "metadata": {
      "needs_background": "light"
     },
     "output_type": "display_data"
    }
   ],
   "source": [
    "plt.plot(history.history['loss'],label='loss', color = 'green')\n",
    "plt.plot(history.history['val_loss'], label='val_loss')\n",
    "plt.xlabel(\"Epochs\")\n",
    "plt.ylabel(\"Error\")\n",
    "plt.legend()\n",
    "plt.show()"
   ]
  },
  {
   "cell_type": "code",
   "execution_count": 50,
   "id": "66dcfb8e",
   "metadata": {},
   "outputs": [
    {
     "name": "stdout",
     "output_type": "stream",
     "text": [
      "1/1 [==============================] - 0s 20ms/step - loss: 0.1591 - mae: 0.1591\n"
     ]
    },
    {
     "data": {
      "text/plain": [
       "[0.1591126173734665, 0.1591126173734665]"
      ]
     },
     "execution_count": 50,
     "metadata": {},
     "output_type": "execute_result"
    }
   ],
   "source": [
    "model3.evaluate(X_test, y_test)"
   ]
  },
  {
   "cell_type": "code",
   "execution_count": 51,
   "id": "079c9831",
   "metadata": {},
   "outputs": [
    {
     "name": "stdout",
     "output_type": "stream",
     "text": [
      "2/2 [==============================] - 0s 4ms/step - loss: 0.1380 - mae: 0.1380\n"
     ]
    },
    {
     "data": {
      "text/plain": [
       "[0.13802415132522583, 0.13802415132522583]"
      ]
     },
     "execution_count": 51,
     "metadata": {},
     "output_type": "execute_result"
    }
   ],
   "source": [
    "model3.evaluate(X_train, y_train)"
   ]
  },
  {
   "cell_type": "code",
   "execution_count": 52,
   "id": "0252e741",
   "metadata": {},
   "outputs": [],
   "source": [
    "y_pred_n = model3.predict(X_test)"
   ]
  },
  {
   "cell_type": "code",
   "execution_count": 53,
   "id": "8a77eb96",
   "metadata": {},
   "outputs": [],
   "source": [
    "res6 = ['Width', 'Neural', mean_absolute_error(y_test, y_pred_n), mean_squared_error(y_test, y_pred_n), \n",
    "        r2_score(y_test, y_pred_n)]\n",
    "results_comp.append(res6)"
   ]
  },
  {
   "cell_type": "markdown",
   "id": "4fcf020a",
   "metadata": {},
   "source": [
    "# Сравнение моделей"
   ]
  },
  {
   "cell_type": "code",
   "execution_count": 54,
   "id": "3f0014c1",
   "metadata": {},
   "outputs": [],
   "source": [
    "df_results = pd.DataFrame(results_comp, columns = ['Predictor', 'Method', 'MAE', 'MSE', 'R_squared'])"
   ]
  },
  {
   "cell_type": "code",
   "execution_count": 55,
   "id": "90b3a260",
   "metadata": {},
   "outputs": [
    {
     "data": {
      "text/html": [
       "<div>\n",
       "<style scoped>\n",
       "    .dataframe tbody tr th:only-of-type {\n",
       "        vertical-align: middle;\n",
       "    }\n",
       "\n",
       "    .dataframe tbody tr th {\n",
       "        vertical-align: top;\n",
       "    }\n",
       "\n",
       "    .dataframe thead th {\n",
       "        text-align: right;\n",
       "    }\n",
       "</style>\n",
       "<table border=\"1\" class=\"dataframe\">\n",
       "  <thead>\n",
       "    <tr style=\"text-align: right;\">\n",
       "      <th></th>\n",
       "      <th>Predictor</th>\n",
       "      <th>Method</th>\n",
       "      <th>MAE</th>\n",
       "      <th>MSE</th>\n",
       "      <th>R_squared</th>\n",
       "    </tr>\n",
       "  </thead>\n",
       "  <tbody>\n",
       "    <tr>\n",
       "      <th>0</th>\n",
       "      <td>Depth</td>\n",
       "      <td>LinearRegression</td>\n",
       "      <td>0.111215</td>\n",
       "      <td>0.020226</td>\n",
       "      <td>0.589439</td>\n",
       "    </tr>\n",
       "    <tr>\n",
       "      <th>2</th>\n",
       "      <td>Depth</td>\n",
       "      <td>Random Forest</td>\n",
       "      <td>0.048697</td>\n",
       "      <td>0.003655</td>\n",
       "      <td>0.960905</td>\n",
       "    </tr>\n",
       "    <tr>\n",
       "      <th>4</th>\n",
       "      <td>Depth</td>\n",
       "      <td>Neural</td>\n",
       "      <td>0.133642</td>\n",
       "      <td>0.042254</td>\n",
       "      <td>0.396677</td>\n",
       "    </tr>\n",
       "  </tbody>\n",
       "</table>\n",
       "</div>"
      ],
      "text/plain": [
       "  Predictor            Method       MAE       MSE  R_squared\n",
       "0     Depth  LinearRegression  0.111215  0.020226   0.589439\n",
       "2     Depth     Random Forest  0.048697  0.003655   0.960905\n",
       "4     Depth            Neural  0.133642  0.042254   0.396677"
      ]
     },
     "execution_count": 55,
     "metadata": {},
     "output_type": "execute_result"
    }
   ],
   "source": [
    "df_results[df_results.Predictor=='Depth'] # По глубине шва"
   ]
  },
  {
   "cell_type": "code",
   "execution_count": 56,
   "id": "da693a13",
   "metadata": {},
   "outputs": [
    {
     "data": {
      "text/html": [
       "<div>\n",
       "<style scoped>\n",
       "    .dataframe tbody tr th:only-of-type {\n",
       "        vertical-align: middle;\n",
       "    }\n",
       "\n",
       "    .dataframe tbody tr th {\n",
       "        vertical-align: top;\n",
       "    }\n",
       "\n",
       "    .dataframe thead th {\n",
       "        text-align: right;\n",
       "    }\n",
       "</style>\n",
       "<table border=\"1\" class=\"dataframe\">\n",
       "  <thead>\n",
       "    <tr style=\"text-align: right;\">\n",
       "      <th></th>\n",
       "      <th>Predictor</th>\n",
       "      <th>Method</th>\n",
       "      <th>MAE</th>\n",
       "      <th>MSE</th>\n",
       "      <th>R_squared</th>\n",
       "    </tr>\n",
       "  </thead>\n",
       "  <tbody>\n",
       "    <tr>\n",
       "      <th>1</th>\n",
       "      <td>Width</td>\n",
       "      <td>LinearRegression</td>\n",
       "      <td>0.050629</td>\n",
       "      <td>0.004309</td>\n",
       "      <td>0.953906</td>\n",
       "    </tr>\n",
       "    <tr>\n",
       "      <th>3</th>\n",
       "      <td>Width</td>\n",
       "      <td>Random Forest</td>\n",
       "      <td>0.044150</td>\n",
       "      <td>0.002791</td>\n",
       "      <td>0.970146</td>\n",
       "    </tr>\n",
       "    <tr>\n",
       "      <th>5</th>\n",
       "      <td>Width</td>\n",
       "      <td>Neural</td>\n",
       "      <td>0.159113</td>\n",
       "      <td>0.057713</td>\n",
       "      <td>0.320588</td>\n",
       "    </tr>\n",
       "  </tbody>\n",
       "</table>\n",
       "</div>"
      ],
      "text/plain": [
       "  Predictor            Method       MAE       MSE  R_squared\n",
       "1     Width  LinearRegression  0.050629  0.004309   0.953906\n",
       "3     Width     Random Forest  0.044150  0.002791   0.970146\n",
       "5     Width            Neural  0.159113  0.057713   0.320588"
      ]
     },
     "execution_count": 56,
     "metadata": {},
     "output_type": "execute_result"
    }
   ],
   "source": [
    "df_results[df_results.Predictor=='Width'] # По ширине шва"
   ]
  },
  {
   "cell_type": "markdown",
   "id": "bfcec135",
   "metadata": {},
   "source": [
    "Вывод: Видно, что модель линейной регрессии имеет явное преимущество. По хорошему надо прикрутить к данной модели форму для визуальзации  данных, типа \"введите IW\"  и дальнейшего использования лучшей модели (хоть я и сомневаюсь, что она будет точно работать в \"боевых условиях\" из-за маленького датасета), но я, в любом случае не знаю как это сделать.. пока не знаю..\n"
   ]
  },
  {
   "cell_type": "code",
   "execution_count": null,
   "id": "d6539a07",
   "metadata": {},
   "outputs": [],
   "source": []
  },
  {
   "cell_type": "code",
   "execution_count": null,
   "id": "1c5741c3",
   "metadata": {},
   "outputs": [],
   "source": []
  }
 ],
 "metadata": {
  "kernelspec": {
   "display_name": "Python 3 (ipykernel)",
   "language": "python",
   "name": "python3"
  },
  "language_info": {
   "codemirror_mode": {
    "name": "ipython",
    "version": 3
   },
   "file_extension": ".py",
   "mimetype": "text/x-python",
   "name": "python",
   "nbconvert_exporter": "python",
   "pygments_lexer": "ipython3",
   "version": "3.9.7"
  }
 },
 "nbformat": 4,
 "nbformat_minor": 5
}
